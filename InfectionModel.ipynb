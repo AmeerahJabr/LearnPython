{
 "cells": [
  {
   "cell_type": "code",
   "execution_count": 1,
   "metadata": {},
   "outputs": [],
   "source": [
    "import random\n",
    "import numpy\n",
    "import sys\n",
    "import matplotlib.pyplot as plt"
   ]
  },
  {
   "cell_type": "code",
   "execution_count": 2,
   "metadata": {},
   "outputs": [],
   "source": [
    "People = 30\n",
    "MaxKnow = 5\n",
    "MinKnow = 1\n",
    "InitialPeopleInfected = 1\n",
    "InfectionRate = .1\n",
    "days = 5\n",
    "\n",
    "Network = []\n",
    "InitialInfected = []\n",
    "InfectedToday = []\n",
    "frequency = []\n",
    "random.seed(People*MaxKnow*MinKnow)\n"
   ]
  },
  {
   "cell_type": "code",
   "execution_count": 3,
   "metadata": {},
   "outputs": [
    {
     "name": "stdout",
     "output_type": "stream",
     "text": [
      "26\n"
     ]
    }
   ],
   "source": [
    "for sick in range(InitialPeopleInfected):\n",
    "    InitialInfected.append(random.randrange(0,People-1,1))\n",
    "    print(InitialInfected[sick])"
   ]
  },
  {
   "cell_type": "code",
   "execution_count": 4,
   "metadata": {},
   "outputs": [],
   "source": [
    "for n in range(People):\n",
    "    i = random.randrange(MinKnow,MaxKnow+1)\n",
    "    count = 1\n",
    "    Network.append([])\n",
    "    for k in range(i):\n",
    "        know = random.randrange(0,People-1,1)\n",
    "        Network[n].append(know)\n",
    "        \n"
   ]
  },
  {
   "cell_type": "code",
   "execution_count": 5,
   "metadata": {},
   "outputs": [],
   "source": [
    "#Day Zero\n",
    "InfectedToday.append([])\n",
    "for passover in range(People):\n",
    "        for infected in range(InitialPeopleInfected):\n",
    "            personTracking = InitialInfected[infected]\n",
    "            InfectedToday[0].append(personTracking)\n",
    "            if personTracking in Network[passover]:\n",
    "                sickNow = random.randrange(0,1)\n",
    "                if sickNow < InfectionRate:\n",
    "                    InfectedToday[0].append(passover)"
   ]
  },
  {
   "cell_type": "code",
   "execution_count": 6,
   "metadata": {},
   "outputs": [],
   "source": [
    "for day in range(1,days):\n",
    "    InfectedToday.append([])\n",
    "    for passover in range(People):\n",
    "        for infected in range(len(InfectedToday[day-1])):\n",
    "            personTracking = InfectedToday[day-1][infected]\n",
    "            InfectedToday[day].append(personTracking)\n",
    "            if personTracking in Network[passover]:\n",
    "                sickNow = random.randrange(0,1)\n",
    "                if sickNow < InfectionRate:\n",
    "                    InfectedToday[day].append(passover)"
   ]
  },
  {
   "cell_type": "code",
   "execution_count": 7,
   "metadata": {},
   "outputs": [
    {
     "data": {
      "text/plain": [
       "Text(0, 0.5, 'Number Sick')"
      ]
     },
     "execution_count": 7,
     "metadata": {},
     "output_type": "execute_result"
    },
    {
     "data": {
      "image/png": "[encoded data removed]",
      "text/plain": [
       "<Figure size 432x288 with 1 Axes>"
      ]
     },
     "metadata": {
      "needs_background": "light"
     },
     "output_type": "display_data"
    }
   ],
   "source": [
    "for i in range(days):\n",
    "    frequency.append(len(set(InfectedToday[i])))\n",
    "plt.plot(frequency)\n",
    "plt.xlabel(\"Days of Infection\")\n",
    "plt.ylabel(\"Number Sick\")"
   ]
  },
  {
   "cell_type": "code",
   "execution_count": null,
   "metadata": {},
   "outputs": [],
   "source": []
  }
 ],
 "metadata": {
  "kernelspec": {
   "display_name": "Python 3",
   "language": "python",
   "name": "python3"
  },
  "language_info": {
   "codemirror_mode": {
    "name": "ipython",
    "version": 3
   },
   "file_extension": ".py",
   "mimetype": "text/x-python",
   "name": "python",
   "nbconvert_exporter": "python",
   "pygments_lexer": "ipython3",
   "version": "3.7.6"
  }
 },
 "nbformat": 4,
 "nbformat_minor": 4
}
